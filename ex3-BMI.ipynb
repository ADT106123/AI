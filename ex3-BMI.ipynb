{
 "cells": [
  {
   "cell_type": "code",
   "execution_count": null,
   "metadata": {},
   "outputs": [],
   "source": [
    "BMI = 0\n",
    "height = int (input(\"請輸入身高(Cm):\"))\n",
    "weight = int (input(\"請輸入體重(Kg):\"))\n",
    "\n",
    "BMI = (weight) / ((height/100)*(height/100))\n",
    "print (\"BMI = %f\\n\" %(BMI))\n",
    "\n",
    "if BMI < 18.5:\n",
    "    print(\"你太輕了\")\n",
    "if BMI >=18.5 and BMI < 24:\n",
    "    print(\"體重是剛好der\")\n",
    "if BMI >=24:\n",
    "    print(\"有點太重囉\")\n"
   ]
  },
  {
   "cell_type": "code",
   "execution_count": null,
   "metadata": {},
   "outputs": [],
   "source": []
  }
 ],
 "metadata": {
  "kernelspec": {
   "display_name": "Python 3",
   "language": "python",
   "name": "python3"
  },
  "language_info": {
   "codemirror_mode": {
    "name": "ipython",
    "version": 3
   },
   "file_extension": ".py",
   "mimetype": "text/x-python",
   "name": "python",
   "nbconvert_exporter": "python",
   "pygments_lexer": "ipython3",
   "version": "3.6.5"
  }
 },
 "nbformat": 4,
 "nbformat_minor": 2
}
